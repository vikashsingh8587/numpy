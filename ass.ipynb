{
 "cells": [
  {
   "cell_type": "code",
   "execution_count": 2,
   "id": "6b0595f3-0ad0-49f5-9bdc-c48a4abe4478",
   "metadata": {},
   "outputs": [],
   "source": [
    "import numpy as np\n",
    "list_ = [ '1','2','3','4','5' ]\n",
    "array_list = np.array(object = list_)"
   ]
  },
  {
   "cell_type": "code",
   "execution_count": 20,
   "id": "dfd648a5-9c3e-4f77-a525-898da57be25a",
   "metadata": {},
   "outputs": [
    {
     "data": {
      "text/plain": [
       "'\\nQ1. Is there any difference in the data type of variables list_ and array_list? If there is then write a code\\nto print the data types of both the variables.\\n'"
      ]
     },
     "execution_count": 20,
     "metadata": {},
     "output_type": "execute_result"
    }
   ],
   "source": [
    "'''\n",
    "Q1. Is there any difference in the data type of variables list_ and array_list? If there is then write a code\n",
    "to print the data types of both the variables.\n",
    "'''"
   ]
  },
  {
   "cell_type": "code",
   "execution_count": 21,
   "id": "4021807e-61d2-46b5-b121-d20914f7cf02",
   "metadata": {},
   "outputs": [
    {
     "data": {
      "text/plain": [
       "'\\nwhere the data type of list are list and there element data type are str\\nin array_list that data type are numpy.ndarray means array and there element data type are str.\\n'"
      ]
     },
     "execution_count": 21,
     "metadata": {},
     "output_type": "execute_result"
    }
   ],
   "source": [
    "'''\n",
    "where the data type of list are list and there element data type are str\n",
    "in array_list that data type are numpy.ndarray means array and there element data type are str.\n",
    "'''"
   ]
  },
  {
   "cell_type": "code",
   "execution_count": 22,
   "id": "417873d4-01ea-4bb1-aacd-47727c5b5e29",
   "metadata": {},
   "outputs": [
    {
     "name": "stdout",
     "output_type": "stream",
     "text": [
      "<class 'list'>\n"
     ]
    }
   ],
   "source": [
    "print(type(list_))"
   ]
  },
  {
   "cell_type": "code",
   "execution_count": 23,
   "id": "2677a99d-27d5-4bd3-aefb-ad6877eaee4c",
   "metadata": {},
   "outputs": [
    {
     "name": "stdout",
     "output_type": "stream",
     "text": [
      "<class 'numpy.ndarray'>\n"
     ]
    }
   ],
   "source": [
    "print(type(array_list))"
   ]
  },
  {
   "cell_type": "code",
   "execution_count": 24,
   "id": "4a548101-adbe-4bfb-826b-9b08229a115b",
   "metadata": {},
   "outputs": [
    {
     "name": "stdout",
     "output_type": "stream",
     "text": [
      "<class 'str'>\n"
     ]
    }
   ],
   "source": [
    "print(type(list_[0]))"
   ]
  },
  {
   "cell_type": "code",
   "execution_count": 25,
   "id": "d8b60e32-9a9d-4d82-9bca-67551794267f",
   "metadata": {},
   "outputs": [
    {
     "name": "stdout",
     "output_type": "stream",
     "text": [
      "<class 'numpy.str_'>\n"
     ]
    }
   ],
   "source": [
    "print(type(array_list[0]))"
   ]
  },
  {
   "cell_type": "code",
   "execution_count": 26,
   "id": "0574d121-5078-47c1-950e-fc412c1b0135",
   "metadata": {},
   "outputs": [
    {
     "data": {
      "text/plain": [
       "'\\nQ2. Write a code to print the data type of each and every element of both the variables list_ and\\narra_list.\\n'"
      ]
     },
     "execution_count": 26,
     "metadata": {},
     "output_type": "execute_result"
    }
   ],
   "source": [
    "'''\n",
    "Q2. Write a code to print the data type of each and every element of both the variables list_ and\n",
    "arra_list.\n",
    "'''"
   ]
  },
  {
   "cell_type": "code",
   "execution_count": 35,
   "id": "77c823a0-206f-4d8d-8e05-a7fa05814d87",
   "metadata": {},
   "outputs": [
    {
     "name": "stdout",
     "output_type": "stream",
     "text": [
      "list:  <class 'int'>\n",
      "list:  <class 'int'>\n",
      "list:  <class 'int'>\n",
      "list:  <class 'int'>\n",
      "list:  <class 'int'>\n",
      "array_list : <class 'numpy.str_'>\n",
      "array_list : <class 'numpy.str_'>\n",
      "array_list : <class 'numpy.str_'>\n",
      "array_list : <class 'numpy.str_'>\n",
      "array_list : <class 'numpy.str_'>\n"
     ]
    }
   ],
   "source": [
    "import numpy as np\n",
    "list_ = [ '1','2','3','4','5' ]\n",
    "array_list = np.array(object = list_)\n",
    "for i in range(len(list_)):\n",
    "    print('list: ',type(i))\n",
    "for i in range(len( array_list)):\n",
    "    print(\"array_list :\",type(array_list[i]))"
   ]
  },
  {
   "cell_type": "code",
   "execution_count": 36,
   "id": "044a4e27-1b78-4e96-8bef-b1a9c74a2b45",
   "metadata": {},
   "outputs": [
    {
     "data": {
      "text/plain": [
       "'\\nQ3. Considering the following changes in the variable, array_list:\\narray_list = np.array(object = list_, dtype = int)\\nWill there be any difference in the data type of the elements present in both the variables, list_ and\\narra_list? If so then print the data types of each and every element present in both the variables, list_\\nand arra_list.\\nConsider the below code to answer further questions:\\nimport numpy as np\\nnum_list = [ [ 1 , 2 , 3 ] , [ 4 , 5 , 6 ] ]\\nnum_array = np.array(object = num_list)\\n'"
      ]
     },
     "execution_count": 36,
     "metadata": {},
     "output_type": "execute_result"
    }
   ],
   "source": [
    "'''\n",
    "Q3. Considering the following changes in the variable, array_list:\n",
    "array_list = np.array(object = list_, dtype = int)\n",
    "Will there be any difference in the data type of the elements present in both the variables, list_ and\n",
    "arra_list? If so then print the data types of each and every element present in both the variables, list_\n",
    "and arra_list.\n",
    "Consider the below code to answer further questions:\n",
    "import numpy as np\n",
    "num_list = [ [ 1 , 2 , 3 ] , [ 4 , 5 , 6 ] ]\n",
    "num_array = np.array(object = num_list)\n",
    "'''"
   ]
  },
  {
   "cell_type": "code",
   "execution_count": 37,
   "id": "8577dcbd-684d-4914-a31c-bcbbdb79a12b",
   "metadata": {},
   "outputs": [],
   "source": [
    "import numpy as np\n",
    "num_list = [ [ 1 , 2 , 3 ] , [ 4 , 5 , 6 ] ]\n",
    "num_array = np.array(object = num_list,dtype=int)"
   ]
  },
  {
   "cell_type": "code",
   "execution_count": 47,
   "id": "e4cea02f-6235-43a8-ad02-6cb553d6885e",
   "metadata": {},
   "outputs": [
    {
     "data": {
      "text/plain": [
       "list"
      ]
     },
     "execution_count": 47,
     "metadata": {},
     "output_type": "execute_result"
    }
   ],
   "source": [
    "type(num_list)"
   ]
  },
  {
   "cell_type": "code",
   "execution_count": 46,
   "id": "6b8d17be-f6f0-44f0-ab80-2768cb0b4ba8",
   "metadata": {},
   "outputs": [
    {
     "data": {
      "text/plain": [
       "numpy.ndarray"
      ]
     },
     "execution_count": 46,
     "metadata": {},
     "output_type": "execute_result"
    }
   ],
   "source": [
    "type(num_array)"
   ]
  },
  {
   "cell_type": "code",
   "execution_count": 58,
   "id": "7ed3af86-1037-420c-a8e0-1d465439353b",
   "metadata": {},
   "outputs": [
    {
     "data": {
      "text/plain": [
       "3"
      ]
     },
     "execution_count": 58,
     "metadata": {},
     "output_type": "execute_result"
    }
   ],
   "source": [
    "len(num_array[0])"
   ]
  },
  {
   "cell_type": "code",
   "execution_count": 60,
   "id": "6ddf91f6-28a4-4f74-81cf-41cae8a4f968",
   "metadata": {},
   "outputs": [
    {
     "name": "stdout",
     "output_type": "stream",
     "text": [
      "num_list element type :  <class 'int'>\n",
      "num_list element type :  <class 'int'>\n",
      "num_list element type :  <class 'int'>\n",
      "num_list element type :  <class 'int'>\n",
      "num_list element type :  <class 'int'>\n",
      "num_list element type :  <class 'int'>\n",
      "num_array element :  <class 'numpy.int64'>\n",
      "num_array element :  <class 'numpy.int64'>\n",
      "num_array element :  <class 'numpy.int64'>\n",
      "num_array element :  <class 'numpy.int64'>\n",
      "num_array element :  <class 'numpy.int64'>\n",
      "num_array element :  <class 'numpy.int64'>\n"
     ]
    }
   ],
   "source": [
    "import numpy as np\n",
    "num_list = [ [ 1 , 2 , 3 ] , [ 4 , 5 , 6 ] ]\n",
    "num_array = np.array(object = num_list,dtype=int)\n",
    "for i in range(len(num_list)):\n",
    "    for j in range(len(num_list[i])):\n",
    "        print(\"num_list element type : \",type(num_list[i][j]))\n",
    "for i in range(len(num_array)):\n",
    "    for j in range(len(num_array[i])):\n",
    "        print(\"num_array element : \",type(num_array[i][j]))\n",
    "                "
   ]
  },
  {
   "cell_type": "code",
   "execution_count": 61,
   "id": "96d7dbe2-b6df-482e-aaa5-74011737f854",
   "metadata": {},
   "outputs": [
    {
     "data": {
      "text/plain": [
       "'\\nwhere the data type of num list are list and num array type are array . and the data type \\nof both element are int see you in code \\n'"
      ]
     },
     "execution_count": 61,
     "metadata": {},
     "output_type": "execute_result"
    }
   ],
   "source": [
    "'''\n",
    "where the data type of num list are list and num array type are array . and the data type \n",
    "of both element are int see you in code \n",
    "'''"
   ]
  },
  {
   "cell_type": "code",
   "execution_count": 62,
   "id": "316be461-3564-4cb2-ba25-05241e64e680",
   "metadata": {},
   "outputs": [
    {
     "data": {
      "text/plain": [
       "'\\nQ4. Write a code to find the following characteristics of variable, num_array:\\n(i) shape\\n(ii) size\\n'"
      ]
     },
     "execution_count": 62,
     "metadata": {},
     "output_type": "execute_result"
    }
   ],
   "source": [
    "'''\n",
    "Q4. Write a code to find the following characteristics of variable, num_array:\n",
    "(i) shape\n",
    "(ii) size\n",
    "'''"
   ]
  },
  {
   "cell_type": "code",
   "execution_count": 63,
   "id": "f5c2f314-eba6-42fc-9863-c30461f00d6f",
   "metadata": {},
   "outputs": [
    {
     "data": {
      "text/plain": [
       "array([[1, 2, 3],\n",
       "       [4, 5, 6]])"
      ]
     },
     "execution_count": 63,
     "metadata": {},
     "output_type": "execute_result"
    }
   ],
   "source": [
    "num_array"
   ]
  },
  {
   "cell_type": "code",
   "execution_count": 64,
   "id": "8121f83e-b012-42f3-9f81-93e2e070831c",
   "metadata": {},
   "outputs": [
    {
     "data": {
      "text/plain": [
       "6"
      ]
     },
     "execution_count": 64,
     "metadata": {},
     "output_type": "execute_result"
    }
   ],
   "source": [
    "num_array.size"
   ]
  },
  {
   "cell_type": "code",
   "execution_count": 65,
   "id": "75fd21be-9c46-47b0-987d-788fda3959cc",
   "metadata": {},
   "outputs": [
    {
     "data": {
      "text/plain": [
       "(2, 3)"
      ]
     },
     "execution_count": 65,
     "metadata": {},
     "output_type": "execute_result"
    }
   ],
   "source": [
    "num_array.shape"
   ]
  },
  {
   "cell_type": "code",
   "execution_count": 66,
   "id": "868fc8df-8108-4c8b-9fa0-c8ff2d6825ba",
   "metadata": {},
   "outputs": [
    {
     "data": {
      "text/plain": [
       "'\\nQ5. Write a code to create numpy array of 3*3 matrix containing zeros only, using a numpy array\\ncreation function.\\n[Hint: The size of the array will be 9 and the shape will be (3,3).]\\n'"
      ]
     },
     "execution_count": 66,
     "metadata": {},
     "output_type": "execute_result"
    }
   ],
   "source": [
    "'''\n",
    "Q5. Write a code to create numpy array of 3*3 matrix containing zeros only, using a numpy array\n",
    "creation function.\n",
    "[Hint: The size of the array will be 9 and the shape will be (3,3).]\n",
    "'''"
   ]
  },
  {
   "cell_type": "code",
   "execution_count": 67,
   "id": "d9bdd570-29e3-4987-99a8-26b9288568a1",
   "metadata": {},
   "outputs": [],
   "source": [
    "import numpy as np\n"
   ]
  },
  {
   "cell_type": "code",
   "execution_count": 68,
   "id": "336ea597-c97c-448a-8729-ba316f3855fb",
   "metadata": {},
   "outputs": [
    {
     "data": {
      "text/plain": [
       "array([[0., 0., 0.],\n",
       "       [0., 0., 0.],\n",
       "       [0., 0., 0.]])"
      ]
     },
     "execution_count": 68,
     "metadata": {},
     "output_type": "execute_result"
    }
   ],
   "source": [
    "np.zeros((3,3))"
   ]
  },
  {
   "cell_type": "code",
   "execution_count": 79,
   "id": "823254af-c76f-4888-beb6-573c65fc255d",
   "metadata": {},
   "outputs": [],
   "source": [
    "arr = np.random.randint(0,1, (3,3))"
   ]
  },
  {
   "cell_type": "code",
   "execution_count": 80,
   "id": "b5900fe3-0a3e-4537-9154-3f7049a3b9ba",
   "metadata": {},
   "outputs": [
    {
     "data": {
      "text/plain": [
       "array([[0, 0, 0],\n",
       "       [0, 0, 0],\n",
       "       [0, 0, 0]])"
      ]
     },
     "execution_count": 80,
     "metadata": {},
     "output_type": "execute_result"
    }
   ],
   "source": [
    "arr"
   ]
  },
  {
   "cell_type": "code",
   "execution_count": 81,
   "id": "a4d23ec3-1ca6-4f2b-bd36-2a16bda4e805",
   "metadata": {},
   "outputs": [
    {
     "data": {
      "text/plain": [
       "'\\nQ6. Create an identity matrix of shape (5,5) using numpy functions?\\n[Hint: An identity matrix is a matrix containing 1 diagonally and other elements will be 0.]\\n'"
      ]
     },
     "execution_count": 81,
     "metadata": {},
     "output_type": "execute_result"
    }
   ],
   "source": [
    "'''\n",
    "Q6. Create an identity matrix of shape (5,5) using numpy functions?\n",
    "[Hint: An identity matrix is a matrix containing 1 diagonally and other elements will be 0.]\n",
    "'''"
   ]
  },
  {
   "cell_type": "code",
   "execution_count": 90,
   "id": "fe879b2e-200f-416d-bcf7-242b63cca2e8",
   "metadata": {},
   "outputs": [],
   "source": [
    "import numpy.matlib as nm"
   ]
  },
  {
   "cell_type": "code",
   "execution_count": 92,
   "id": "bc3e86ee-3797-4156-b5e6-40f8f21a94d9",
   "metadata": {},
   "outputs": [],
   "source": [
    "arr=nm.eye((5))"
   ]
  },
  {
   "cell_type": "code",
   "execution_count": 93,
   "id": "7b3628fe-536b-4c73-9101-d34da6f67a33",
   "metadata": {},
   "outputs": [
    {
     "data": {
      "text/plain": [
       "matrix([[1., 0., 0., 0., 0.],\n",
       "        [0., 1., 0., 0., 0.],\n",
       "        [0., 0., 1., 0., 0.],\n",
       "        [0., 0., 0., 1., 0.],\n",
       "        [0., 0., 0., 0., 1.]])"
      ]
     },
     "execution_count": 93,
     "metadata": {},
     "output_type": "execute_result"
    }
   ],
   "source": [
    "arr"
   ]
  },
  {
   "cell_type": "code",
   "execution_count": 94,
   "id": "21019346-ad55-47f0-af0e-7493892d3f9e",
   "metadata": {},
   "outputs": [],
   "source": [
    "a=nm.identity(5)"
   ]
  },
  {
   "cell_type": "code",
   "execution_count": 95,
   "id": "9c301e48-92aa-4f07-93d7-c1da5a64b692",
   "metadata": {},
   "outputs": [
    {
     "data": {
      "text/plain": [
       "matrix([[1., 0., 0., 0., 0.],\n",
       "        [0., 1., 0., 0., 0.],\n",
       "        [0., 0., 1., 0., 0.],\n",
       "        [0., 0., 0., 1., 0.],\n",
       "        [0., 0., 0., 0., 1.]])"
      ]
     },
     "execution_count": 95,
     "metadata": {},
     "output_type": "execute_result"
    }
   ],
   "source": [
    "a"
   ]
  },
  {
   "cell_type": "code",
   "execution_count": null,
   "id": "e967927d-a207-45b5-a725-6dc5d20446d9",
   "metadata": {},
   "outputs": [],
   "source": [
    "\n"
   ]
  },
  {
   "cell_type": "code",
   "execution_count": null,
   "id": "d98b545e-407d-440d-89d8-91eee9b35a1d",
   "metadata": {},
   "outputs": [],
   "source": []
  }
 ],
 "metadata": {
  "kernelspec": {
   "display_name": "Python 3 (ipykernel)",
   "language": "python",
   "name": "python3"
  },
  "language_info": {
   "codemirror_mode": {
    "name": "ipython",
    "version": 3
   },
   "file_extension": ".py",
   "mimetype": "text/x-python",
   "name": "python",
   "nbconvert_exporter": "python",
   "pygments_lexer": "ipython3",
   "version": "3.10.8"
  }
 },
 "nbformat": 4,
 "nbformat_minor": 5
}
